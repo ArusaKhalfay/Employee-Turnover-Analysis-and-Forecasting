{
 "cells": [
  {
   "cell_type": "markdown",
   "id": "205ceb7c",
   "metadata": {},
   "source": [
    "# Employee Turnover Analysis and Forecasting\n",
    "This notebook analyzes employee turnover data and provides a forecast for future turnover rates using a SARIMA model."
   ]
  },
  {
   "cell_type": "code",
   "execution_count": null,
   "id": "c0eba343",
   "metadata": {},
   "outputs": [],
   "source": [
    "# Import Libraries\n",
    "import pandas as pd\n",
    "import numpy as np\n",
    "from statsmodels.tsa.statespace.sarimax import SARIMAX\n",
    "import matplotlib.pyplot as plt\n",
    "import seaborn as sns"
   ]
  },
  {
   "cell_type": "code",
   "execution_count": null,
   "id": "140c137f",
   "metadata": {},
   "outputs": [],
   "source": [
    "# Load Dataset\n",
    "df = pd.read_excel('employee_turnover.xlsx', parse_dates=['join_date', 'leave_date'])\n",
    "df.head()"
   ]
  },
  {
   "cell_type": "code",
   "execution_count": null,
   "id": "8d1f84bc",
   "metadata": {},
   "outputs": [],
   "source": [
    "# Preprocessing\n",
    "df['turnover_date'] = df['leave_date'].dt.to_period('M').dt.to_timestamp()\n",
    "turnover_monthly = (\n",
    "    df[df['turnover'] == 1]\n",
    "    .groupby('turnover_date')\n",
    "    .size()\n",
    "    .resample('M')\n",
    "    .sum()\n",
    "    .fillna(0)\n",
    ")\n",
    "turnover_monthly.head()"
   ]
  },
  {
   "cell_type": "code",
   "execution_count": null,
   "id": "ad633a66",
   "metadata": {},
   "outputs": [],
   "source": [
    "# Time Series Forecasting (SARIMA Model)\n",
    "model = SARIMAX(turnover_monthly, order=(1, 1, 1), seasonal_order=(1, 1, 1, 12))\n",
    "results = model.fit()\n",
    "print(results.summary())"
   ]
  },
  {
   "cell_type": "code",
   "execution_count": null,
   "id": "7940d494",
   "metadata": {},
   "outputs": [],
   "source": [
    "# Forecasting\n",
    "forecast_steps = 12\n",
    "forecast = results.get_forecast(steps=forecast_steps)\n",
    "forecast_index = pd.date_range(turnover_monthly.index[-1] + pd.DateOffset(1), periods=forecast_steps, freq='M')\n",
    "forecast_values = forecast.predicted_mean"
   ]
  },
  {
   "cell_type": "code",
   "execution_count": null,
   "id": "fe3e98f7",
   "metadata": {},
   "outputs": [],
   "source": [
    "# Visualization\n",
    "plt.figure(figsize=(10, 6))\n",
    "plt.plot(turnover_monthly, label='Actual Turnover')\n",
    "plt.plot(forecast_index, forecast_values, label='Forecasted Turnover', linestyle='--')\n",
    "plt.title('Monthly Turnover Forecast')\n",
    "plt.legend()\n",
    "plt.show()"
   ]
  }
 ],
 "metadata": {},
 "nbformat": 4,
 "nbformat_minor": 5
}
